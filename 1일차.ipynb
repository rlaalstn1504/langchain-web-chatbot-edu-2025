{
  "cells": [
    {
      "cell_type": "markdown",
      "id": "8269a472",
      "metadata": {
        "cell_watermark": {
          "hash": "cmxhYWxzdG4xNTA0QG5hdmVyLmNvbQ==",
          "date": "2025-10-28",
          "uuid": "619b171f-6a8b-45a5-a484-0d3163de28eb"
        }
      },
      "source": [
        "# LangChain으로 만드는 웹 기반 챗봇 실습  \n",
        "\n",
        "##  1. 과정 소개 및 개요\n",
        "- **학습 목표**\n",
        "  - AI 챗봇의 기본 개념과 발전 과정을 이해한다.\n",
        "  - 규칙 기반 챗봇과 LLM 기반 챗봇을 비교할 수 있다.\n",
        "  - LangChain, Streamlit, FAISS 등 주요 기술의 역할과 장점을 이해한다.\n",
        "  - LCEL을 사용하여 확장성 있는 체인을 직접 설계할 수 있다.\n",
        "  - **웹 기반으로 자신이 커스텀한 챗봇을 배포할 수 있는 역량을 갖춘다.**\n",
        "\n",
        "- **핵심 키워드**\n",
        "  - LLM Chatbot, LangChain, LCEL, Prompt, Streamlit, FAISS, RAG  \n",
        "\n",
        "### 환경 설정 \n",
        "\n",
        "#### (1) 필수 라이브러리 설치 \n",
        "웹 페이지(UI) 를 직접 띄워야 하기 때문에, Google Colab보다는  \n",
        "본인 PC의 로컬 환경(VSCode, Terminal 등) 에서 실행하는 것을 권장합니다.\n",
        "\n",
        "먼저 실습에 필요한 주요 패키지를 설치합니다.\n",
        "터미널 또는 VSCode의 터미널 창에서 다음 명령어를 입력하세요.\n",
        "```bash\n",
        "pip install -U langchain langchain-openai streamlit faiss-cpu python-dotenv tiktoken\n",
        "```\n",
        "\n",
        "#### (2) 라이브러리별 역할 설명\n",
        "\n",
        "| 라이브러리                | 주요 역할        | 설명                                                                                                  |\n",
        "| -------------------- | ------------ | --------------------------------------------------------------------------------------------------- |\n",
        "| **langchain**        | 체인 프레임워크 핵심  | LLM(대형언어모델)을 중심으로 다양한 입력·출력·도구를 연결하는 프레임워크. `PromptTemplate`, `LLMChain`, `Retriever`, `LCEL` 등을 제공 |\n",
        "| **langchain-openai** | OpenAI 연동 모듈 | OpenAI의 GPT 모델(`ChatOpenAI`)을 LangChain 체인 안에서 바로 사용할 수 있도록 연결해줌                                    |\n",
        "| **streamlit**        | 웹 인터페이스 구현   | Python 코드 몇 줄로 대화형 웹 UI(챗봇 화면, 입력창, 출력창 등)를 만들 수 있는 간단한 프레임워크                                       |\n",
        "| **faiss-cpu**        | 벡터 검색 DB     | 문서 검색 기반 챗봇(RAG) 구현 시, 텍스트 임베딩을 벡터로 저장하고 유사한 내용을 빠르게 검색하는 역할                                        |\n",
        "| **python-dotenv**    | 환경변수 관리      | `.env` 파일에서 OpenAI API Key 등 민감한 정보를 안전하게 불러와 코드에 직접 노출하지 않게 해줌                                     |\n",
        "\n",
        "\n",
        "#### (3) OpenAI API 키 설정 (.env 파일, 보안 주의)\n",
        "\n",
        "실습 폴더 루트에 .env 파일을 생성하고, 강사가 안내한 OpenAI API Key를 아래 형식으로 저장합니다. \n",
        "```bash\n",
        "OPENAI_API_KEY=sk-xxxxxxxxxxxxxxxxxxxxxxxxxxxxxxxx\n",
        "``` \n",
        "\n",
        "#### ⚠️ 주의\n",
        ".env 파일은 절대 깃허브(GitHub)나 외부 저장소에 업로드하지 마세요.  \n",
        "사용은 `.env` 파일에 저장 후 `python-dotenv`를 이용해 불러오는 방식을 권장합니다.\n",
        "API Key가 노출되면 과금 위험이 있습니다.\n",
        "\n",
        "```python\n",
        "from dotenv import load_dotenv\n",
        "import os\n",
        "\n",
        "load_dotenv()\n",
        "api_key = os.getenv(\"OPENAI_API_KEY\")\n",
        "```"
      ]
    },
    {
      "cell_type": "markdown",
      "id": "889e6fec",
      "metadata": {
        "cell_watermark": {
          "hash": "cmxhYWxzdG4xNTA0QG5hdmVyLmNvbQ==",
          "date": "2025-10-28",
          "uuid": "5fd266a8-7311-4331-9fd2-1a4e014ebd5e"
        }
      },
      "source": [
        "##  2. LangChain 소개\n",
        "### 🔹 LangChain이란?\n",
        "\n",
        "<img src =\"image/LangChain.png\" width=\"500\">\n",
        "\n",
        "LangChain은 **대규모 언어모델(LLM)** 을 더 쉽게 활용할 수 있도록 도와주는 **프레임워크**입니다.  \n",
        "\n",
        "단순히 LLM에게 질문을 던지는 수준을 넘어서, **프롬프트 관리(prompt management)**,  \n",
        "**메모리(memory)**, **외부 도구(tool) 연동**, **문서 검색(RAG)** 등을 체계적으로 구성할 수 있습니다."
      ]
    },
    {
      "cell_type": "markdown",
      "id": "e23c7fa9",
      "metadata": {
        "cell_watermark": {
          "hash": "cmxhYWxzdG4xNTA0QG5hdmVyLmNvbQ==",
          "date": "2025-10-28",
          "uuid": "d653c966-c5b2-45bc-8983-42665894ef6c"
        }
      },
      "source": [
        "예를 들어, 우리가 ChatGPT 같은 LLM을 사용할 때  \n",
        "단순히 모델 하나만으로 뛰어난 답변이 만들어지는 것은 아닙니다.  \n",
        "\n",
        "실제로는 **검색(Search)**, **분석(Analysis)**, **정보 정리(Summarization)** 등  \n",
        "여러 절차가 백그라운드에서 함께 작동해야 더 정확하고 풍부한 답변을 얻을 수 있습니다.  \n",
        "\n",
        "LangChain은 이러한 여러 단계를 **하나의 체계적인 구조로 묶어주는 프레임워크**입니다.  \n",
        "즉, LLM이 단독으로 모든 일을 처리하는 대신  \n",
        "“사용자 입력 → 관련 정보 검색 → 분석 및 요약 → 결과 생성”과 같은  \n",
        "복잡한 흐름을 하나의 **체인(chain)** 으로 자동화할 수 있습니다.  \n",
        "\n",
        "<img src=\"image/chatgpt.jpg\" width=\"600\">\n",
        "\n",
        "예를 들어, 사용자가 “3박 4일, 30만 원 예산, 맛집 중심의 서울 여행”을 요청하면,  \n",
        "LangChain은 내부적으로 다음과 같은 과정을 수행합니다.  \n",
        "\n",
        "> 입력 분석 → 예산과 일정 파악 → 추천 장소 검색 → 일정표 생성 → 자연스러운 문장으로 요약  \n",
        "\n",
        "이처럼 LangChain은 단순한 대화 요청을 넘어 **검색, 분석, 조합, 요약** 등의 단계를 유기적으로 연결해  \n",
        "LLM이 더 똑똑하게 작동하도록 돕습니다.  "
      ]
    },
    {
      "cell_type": "markdown",
      "id": "2ddd760d",
      "metadata": {
        "cell_watermark": {
          "hash": "cmxhYWxzdG4xNTA0QG5hdmVyLmNvbQ==",
          "date": "2025-10-28",
          "uuid": "39e28d56-89e6-4c0e-afc9-74f2fb45d10b"
        }
      },
      "source": [
        "또한 LangChain은 **LCEL (LangChain Expression Language)** 이라는 표현 언어를 통해  \n",
        "이러한 여러 단계(components)를 **직관적으로 연결**할 수 있게 해줍니다.  \n",
        "즉, “LLM → 요약기 → 출력 포맷터”처럼 **함수형 파이프라인**을 선언적으로 작성할 수 있어  \n",
        "확장성과 유지보수성이 뛰어납니다.\n",
        "\n",
        "LCEL 예시: \n",
        "```text\n",
        "사용자입력\n",
        "  | 분석기(요청에서 날짜·예산·키워드 추출)\n",
        "  | 검색기(분석 결과를 바탕으로 추천 장소 탐색)\n",
        "  | 일정생성기(추천 장소로 일자별 일정 구성)\n",
        "  | 요약기(자연스러운 문장으로 결과 정리)\n",
        "  | 출력\n",
        "```\n",
        "\n",
        "이처럼 LCEL은 각 단계를 함수처럼 “연결(pipe)”하여 데이터가 흘러가는 경로를 선언적으로 표현합니다.  \n",
        "복잡한 제어문 없이 “입력 → 처리 → 출력” 구조를 직관적으로 구성할 수 있어,\n",
        "체인 전체의 논리 흐름을 한눈에 파악할 수 있습니다."
      ]
    },
    {
      "cell_type": "markdown",
      "id": "e1f8ba0d",
      "metadata": {
        "cell_watermark": {
          "hash": "cmxhYWxzdG4xNTA0QG5hdmVyLmNvbQ==",
          "date": "2025-10-28",
          "uuid": "dcfee518-59cd-4dfe-a0ac-a2c1563ee7d0"
        }
      },
      "source": [
        "### 🔹 간단한 예시 코드"
      ]
    },
    {
      "cell_type": "code",
      "execution_count": 1,
      "id": "a24f3bf0",
      "metadata": {
        "cell_watermark": {
          "hash": "cmxhYWxzdG4xNTA0QG5hdmVyLmNvbQ==",
          "date": "2025-10-28",
          "uuid": "ff5d9896-85ae-4b58-a254-481cd8eea233"
        }
      },
      "outputs": [
        {
          "name": "stdout",
          "output_type": "stream",
          "text": [
            "LangChain은 언어 모델을 활용하여 다양한 응용 프로그램을 개발할 수 있도록 도와주는 프레임워크로, 데이터 연결 및 API 통합을 통해 복잡한 작업을 쉽게 수행할 수 있게 합니다.\n"
          ]
        }
      ],
      "source": [
        "# OpenAI API를 LangChain에서 쉽게 쓸 수 있도록 해주는 래퍼 모듈\n",
        "from langchain_openai import ChatOpenAI\n",
        "from langchain.prompts import PromptTemplate # 문자열 템플릿 기반으로 프롬프트를 자동 구성해주는 유틸\n",
        "from langchain_core.output_parsers import StrOutputParser # LLM의 응답 객체를 문자열로 변환해주는 파서 (출력 후처리 단계)\n",
        "from dotenv import load_dotenv # .env 파일의 환경변수를 자동으로 불러오기 위한 모듈\n",
        "load_dotenv()  # 실행 시 .env 파일을 찾아 변수들을 환경에 로드\n",
        "\n",
        "# LCEL 방식: 파이프라인 형태로 선언\n",
        "llm = ChatOpenAI(model=\"gpt-4o-mini\")\n",
        "prompt = PromptTemplate.from_template(\"'{topic}' 주제에 대해 한 문장으로 설명해줘.\")\n",
        "output_str = StrOutputParser() # 결과 객체에서 텍스트(content)만 깔끔하게 추출해 문자열로 변환함\n",
        "\n",
        "# LCEL 표현 (프롬프트 → LLM → 출력)\n",
        "chain = prompt | llm | output_str\n",
        "\n",
        "# chain.invoke() 는 전체 파이프라인을 한 번 실행하는 메서드\n",
        "result = chain.invoke({\"topic\": \"LangChain\"})\n",
        "print(result)"
      ]
    },
    {
      "cell_type": "markdown",
      "id": "83fa68bd",
      "metadata": {
        "cell_watermark": {
          "hash": "cmxhYWxzdG4xNTA0QG5hdmVyLmNvbQ==",
          "date": "2025-10-28",
          "uuid": "f6f14b93-69e6-458c-aed6-366dbbcec92a"
        }
      },
      "source": [
        "| 항목            | 설명                              |\n",
        "| ------------- | ------------------------------- |\n",
        "| **LangChain** | LLM을 활용하기 위한 파이썬 기반 프레임워크       |\n",
        "| **핵심 기능**     | 프롬프트 관리, 메모리, 도구 연동, 문서 검색(RAG) |\n",
        "| **LCEL**      | 체인 구성 과정을 간결하게 표현하는 언어          |\n",
        "| **활용 예시**     | 질문응답, 요약, 문서검색, 챗봇, 자동화된 지식시스템  |\n"
      ]
    },
    {
      "cell_type": "markdown",
      "id": "6a26d3a3",
      "metadata": {
        "cell_watermark": {
          "hash": "cmxhYWxzdG4xNTA0QG5hdmVyLmNvbQ==",
          "date": "2025-10-28",
          "uuid": "90a919b0-f776-4841-9032-e0228fe8a4f8"
        }
      },
      "source": [
        "LangChain은 LLM의 “두뇌”를 실무에서 “자동화 가능한 시스템”으로 바꿔주는 연결 프레임워크입니다.  \n",
        "단순한 모델 호출이 아니라, 프로세스를 설계하고 실행하는 엔진이라고 이해하면 됩니다."
      ]
    },
    {
      "cell_type": "markdown",
      "id": "960e9f12",
      "metadata": {
        "cell_watermark": {
          "hash": "cmxhYWxzdG4xNTA0QG5hdmVyLmNvbQ==",
          "date": "2025-10-28",
          "uuid": "6bc0b48a-583f-41b6-95de-d11a3083ed48"
        }
      },
      "source": [
        "## 3. 프롬프트(Prompt)\n",
        "\n",
        "**프롬프트(Prompt)** 는 LLM(대형언어모델)에게 “무엇을, 어떻게 해달라”고 **지시하는 문장**입니다.\n",
        "\n",
        "사람에게 질문할 때도 요청을 명확히 해야 원하는 답을 얻을 수 있듯,  LLM에게도 프롬프트가 곧 **“명령어이자 대화의 시작점”** 이 됩니다.  \n",
        "\n",
        "예를 들어,  \n",
        "> 1. “고양이에 대해 설명해줘.”  \n",
        "> 2. “고양이를 5살 아이가 이해할 수 있게 설명해줘.”  \n",
        "\n",
        "두 문장은 같은 주제지만 결과는 완전히 다릅니다.  \n",
        "👉 따라서 **프롬프트의 설계(=프롬프트 엔지니어링)** 가 답변의 질을 결정합니다."
      ]
    },
    {
      "cell_type": "markdown",
      "id": "24081896",
      "metadata": {
        "cell_watermark": {
          "hash": "cmxhYWxzdG4xNTA0QG5hdmVyLmNvbQ==",
          "date": "2025-10-28",
          "uuid": "d32d183a-d2dd-4c0f-a19c-629000527024"
        }
      },
      "source": [
        "#### LLM은 세 가지 종류의 프롬프트로 대화한다\n",
        "LLM은 단순히 한 문장만 보고 답하지 않습니다.  \n",
        "대화의 **맥락(context)** 을 유지하기 위해 다음 세 가지 프롬프트를 함께 사용합니다.\n",
        "\n",
        "| 종류 | 역할 | 예시 |\n",
        "|------|------|------|\n",
        "| **System Prompt** | 모델의 성격과 역할을 설정 | “너는 친절하고 이해심 많은 선생님이야.” |\n",
        "| **User Prompt** | 사용자의 실제 질문이나 요청 | “인공지능이 뭐야?” |\n",
        "| **Assistant Prompt** | 모델이 이전에 했던 응답 | “인공지능은 사람의 학습 능력을 모방한 기술이야.” |\n",
        "\n",
        "#### 왜 이렇게 구분할까?\n",
        "- **System Prompt** → 모델의 **기본 성격**을 결정합니다. (친절한 선생님 / 냉정한 분석가 등)  \n",
        "- **User Prompt** → 사용자가 **무엇을 알고 싶은지**를 알려줍니다.  \n",
        "- **Assistant Prompt** → 이전 대화 내용을 **기억하고 맥락을 유지**하게 도와줍니다.  \n",
        "\n",
        "이 세 가지를 함께 쓰면 모델은  \n",
        "> “지금 나는 친절한 선생님이고, 방금 ‘인공지능이 뭐냐’는 질문을 들었구나.”  \n",
        "라고 이해한 뒤 더 자연스럽고 일관된 답변을 합니다."
      ]
    },
    {
      "cell_type": "markdown",
      "id": "4c5a795d",
      "metadata": {
        "cell_watermark": {
          "hash": "cmxhYWxzdG4xNTA0QG5hdmVyLmNvbQ==",
          "date": "2025-10-28",
          "uuid": "e2c8e711-52e5-4954-814a-28e6f20bcb0d"
        }
      },
      "source": [
        "### 🔹 LangChain에서의 프롬프트: `PromptTemplate`\n",
        "LangChain에서는 프롬프트를 **하드코딩(직접 작성)** 하는 대신, **`PromptTemplate`** 클래스를 사용해 “템플릿” 형태로 관리합니다.\n",
        "\n",
        "#### 예시 1"
      ]
    },
    {
      "cell_type": "code",
      "execution_count": 2,
      "id": "4e5f57f6",
      "metadata": {
        "cell_watermark": {
          "hash": "cmxhYWxzdG4xNTA0QG5hdmVyLmNvbQ==",
          "date": "2025-10-28",
          "uuid": "f764be05-222f-4360-869c-c4ecc44a1d63"
        }
      },
      "outputs": [
        {
          "data": {
            "text/plain": [
              "\"'LangChain'에 대해 초보자도 이해할 수 있게 한 문장으로 설명해줘.\""
            ]
          },
          "execution_count": 2,
          "metadata": {},
          "output_type": "execute_result"
        }
      ],
      "source": [
        "from langchain.prompts import PromptTemplate\n",
        "\n",
        "# {topic} 부분에 사용자의 입력이 들어가도록 템플릿 생성\n",
        "prompt = PromptTemplate.from_template(\"'{topic}'에 대해 초보자도 이해할 수 있게 한 문장으로 설명해줘.\")\n",
        "\n",
        "# 실제 실행 시:\n",
        "prompt.format(topic=\"LangChain\")\n",
        "# 결과 → \"'LangChain'에 대해 초보자도 이해할 수 있게 한 문장으로 설명해줘.\""
      ]
    },
    {
      "cell_type": "markdown",
      "id": "b3575456",
      "metadata": {
        "cell_watermark": {
          "hash": "cmxhYWxzdG4xNTA0QG5hdmVyLmNvbQ==",
          "date": "2025-10-28",
          "uuid": "b50542bd-06c7-46c4-8529-fddc23efacf7"
        }
      },
      "source": [
        "#### 예시 2"
      ]
    },
    {
      "cell_type": "code",
      "execution_count": null,
      "id": "3e34e180",
      "metadata": {
        "cell_watermark": {
          "hash": "cmxhYWxzdG4xNTA0QG5hdmVyLmNvbQ==",
          "date": "2025-10-28",
          "uuid": "7fd41289-79e2-4755-b0f0-f7ac1560d633"
        }
      },
      "outputs": [
        {
          "name": "stdout",
          "output_type": "stream",
          "text": [
            "부산에서의 2박 3일 여행 일정을 제안해드릴게요!\n",
            "\n",
            "### 1일차: 해운대와 광안리\n",
            "- **오전**\n",
            "  - 부산 도착 후 해운대 해수욕장 방문\n",
            "  - 해운대 해변 산책 및 사진 촬영\n",
            "  - 해운대 근처의 카페에서 브런치 즐기기\n",
            "\n",
            "- **오후**\n",
            "  - 동백섬 탐방 (이기대 공원도 추천)\n",
            "  - APEC 나루공원에서 바다 전망 감상\n",
            "  - 오션뷰 레스토랑에서 점심\n",
            "\n",
            "- **저녁**\n",
            "  - 광안리 해변으로 이동\n",
            "  - 광안대교 야경 감상\n",
            "  - 해변 근처의 맛집에서 저녁 (예: 해물탕, 회 등)\n",
            "\n",
            "### 2일차: 문화와 역사 탐방\n",
            "- **오전**\n",
            "  - 감천문화마을 탐방 (예쁜 벽화와 공방들)\n",
            "  - 근처 카페에서 커피 한 잔\n",
            "\n",
            "- **오후**\n",
            "  - 부산타워 방문 (부산 전경 감상)\n",
            "  - 자갈치 시장에서 신선한 해산물 점심\n",
            "  - 부산 근대 역사관 탐방\n",
            "\n",
            "- **저녁**\n",
            "  - 남포동에서 쇼핑 및 길거리 음식 즐기기 (어묵, 떡볶이 등)\n",
            "  - 부산의 유명한 포장마차에서 저녁\n",
            "\n",
            "### 3일차: 자연과 힐링\n",
            "- **오전**\n",
            "  - 태종대 방문 (태종대 유람선 타기)\n",
            "  - 아름다운 해안 절경 감상\n",
            "\n",
            "- **오후**\n",
            "  - 기장으로 이동 (죽성성당 방문)\n",
            "  - 기장에서 해물 파전과 막걸리 점심\n",
            "  - 바다를 바라보며 여유로운 시간 보내기\n",
            "\n",
            "- **저녁**\n",
            "  - 부산역으로 이동하여 귀가 준비\n",
            "  - 부산에서의 마지막 저녁으로 회 또는 고기를 즐기기\n",
            "\n",
            "이 일정을 통해 부산의 다양한 매력을 느낄 수 있을 거예요! 즐거운 여행 되세요!\n"
          ]
        }
      ],
      "source": [
        "from langchain_openai import ChatOpenAI\n",
        "from langchain.prompts import ChatPromptTemplate\n",
        "from langchain_core.output_parsers import StrOutputParser\n",
        "\n",
        "# 1.  모델 선언\n",
        "llm = ChatOpenAI(model=\"gpt-4o-mini\", temperature=0.7)\n",
        "\n",
        "# 2️. 프롬프트 구성\n",
        "# - System: 모델의 기본 역할(여행 전문가)\n",
        "# - User: 사용자의 첫 질문 (가을 여행지 추천)\n",
        "# - Assistant: 직전에 모델이 대답했던 내용 (AI의 응답)\n",
        "# - User: 현재 사용자의 새로운 질문 (부산 일정표 요청)\n",
        "prompt = ChatPromptTemplate.from_messages([\n",
        "    (\"system\", \"너는 친절한 여행 전문가야. 사용자의 취향에 맞게 국내 여행지를 추천하고, 일정도 구체적으로 제안해줘.\"),\n",
        "    (\"user\", \"가을에 2박 3일로 갈만한 국내 여행지를 추천해줘.\"),\n",
        "    (\"assistant\", \"부산, 여수, 속초가 좋을 것 같아요! 각각 바다와 음식, 분위기가 다르니 선택에 따라 즐길 거리가 달라요.\"),\n",
        "    (\"user\", \"그럼 이번엔 부산으로 2박 3일 일정표를 만들어줘.\")\n",
        "])\n",
        "\n",
        "# 3️. 출력 파서 (응답 텍스트만 추출)\n",
        "parser = StrOutputParser()\n",
        "\n",
        "# 4️. LCEL 파이프라인 구성 (Prompt → LLM → Parser)\n",
        "chain = prompt | llm | parser\n",
        "\n",
        "# 5️. 실행\n",
        "result = chain.invoke({})\n",
        "\n",
        "print(result)"
      ]
    },
    {
      "cell_type": "markdown",
      "id": "0074addf",
      "metadata": {
        "cell_watermark": {
          "hash": "cmxhYWxzdG4xNTA0QG5hdmVyLmNvbQ==",
          "date": "2025-10-28",
          "uuid": "d85e107c-26c9-4a3f-9d04-803c3c711ecb"
        }
      },
      "source": [
        "#### 예시 3. 퓨샷 러닝(Few-shot Learning)\n",
        "\n",
        "**Few-shot Learning**은 LLM에게 **“예시 몇 개를 직접 보여줘서 학습 방향을 잡아주는 방법”** 입니다.\n",
        "\n",
        "AI에게 “이렇게 대답해!”라고 명령하는 것만으로는 부족할 때,  \n",
        "실제 **입출력 예시를 몇 개 제시해주면** 모델이 그 **패턴과 말투, 구조**를 빠르게 학습해 유사한 답변을 생성합니다.\n",
        "\n",
        "예를 들어  \n",
        "> “백종원 대표의 충청도 사투리로 요리 팁을 말해줘.”  \n",
        "라고만 하면 AI는 사투리의 뉘앙스를 정확히 몰라 평범한 답변을 할 수 있습니다.  \n",
        "\n",
        "하지만 아래처럼 실제 대화 예시를 1~2개 보여주면  \n",
        "> “아~ 이런 식으로 말하면 되는구나!”  \n",
        "하고 패턴을 스스로 학습해 자연스러운 말투를 재현합니다.\n",
        "\n",
        "**퓨샷 러닝의 장점**\n",
        "\n",
        "| 장점 | 설명 |\n",
        "|------|------|\n",
        "|**말투·스타일 학습 가능** | 특정 인물(예: 백종원, 아이유, 선생님 등)의 말투나 표현방식 재현 |\n",
        "|**작업 포맷 유지** | 요약, 번역, 해설 등 특정 형식을 예시로 제시하면 그 구조를 그대로 따름 |\n",
        "|**추가 학습(파인튜닝) 없이 가능** | 단순히 프롬프트 안에 예시 몇 개 넣는 것만으로도 “즉석 학습” 효과 |\n",
        "|**창의적 제어** | “~처럼 말해줘”, “이런 형식으로 답해줘” 등 자유로운 응용 가능 |\n"
      ]
    },
    {
      "cell_type": "code",
      "execution_count": null,
      "id": "6b41391e",
      "metadata": {
        "cell_watermark": {
          "hash": "cmxhYWxzdG4xNTA0QG5hdmVyLmNvbQ==",
          "date": "2025-10-28",
          "uuid": "b39f21b7-f98d-494e-93a9-b1b4f8be49b5"
        }
      },
      "outputs": [
        {
          "name": "stdout",
          "output_type": "stream",
          "text": [
            "김치전은 참 쉽다잉! 묵은 김치 잘게 썰고 밀가루랑 물 섞어서 반죽 만들어. 팬에 기름 넉넉히 두르고 부쳐주면 돼. 바삭하게 노릇노릇하게 구우면 진짜 맛있지! 소스는 간장에 다진 파 좀 넣으면 완전 꿀맛이여~\n"
          ]
        }
      ],
      "source": [
        "### 코드 예시: 백종원 말투 흉내내기 (Few-shot Learning)\n",
        "from langchain_openai import ChatOpenAI\n",
        "from langchain.prompts import ChatPromptTemplate\n",
        "from langchain_core.output_parsers import StrOutputParser\n",
        "\n",
        "# temperature를 약간 높이면(0.8) 표현이 더 자유롭고 창의적이게 됨\n",
        "llm = ChatOpenAI(model=\"gpt-4o-mini\", temperature=0.8)\n",
        "\n",
        "# - System: 모델의 기본 역할 지정\n",
        "# - 예시 대화(few-shot examples): 실제 말투 패턴을 보여줌\n",
        "# - User: 새로운 질문\n",
        "prompt = ChatPromptTemplate.from_messages([\n",
        "    (\"system\", \"너는 요리 전문가이자, 백종원 대표의 말투를 자연스럽게 흉내내는 AI야. 충청도 사투리와 친근한 말투로 대답해.\"),\n",
        "    \n",
        "    # [예시 1] — 사용자가 물어봤고, 백종원 말투로 답변한 사례\n",
        "    (\"user\", \"라면 맛있게 끓이는 비법 알려주세요.\"),\n",
        "    (\"assistant\", \"그라믄 말이여~ 라면은 물 끓일 때 스프를 같이 넣는 게 포인트여. 그래야 국물이 진~해진다잉.\"),\n",
        "    \n",
        "    # [예시 2] — 또 다른 백종원식 대답 예시\n",
        "    (\"user\", \"김치찌개 맛있게 끓이는 법은요?\"),\n",
        "    (\"assistant\", \"김치찌개는 묵은지 써야혀~ 그래야 깊은 맛이 나. 돼지고기 좀 넣어주면 금상첨화여잉.\"),\n",
        "    \n",
        "    # [새로운 요청] — 실행 시 전달될 질문 변수. 이제 모델이 같은 말투로 이어서 대답해야 함\n",
        "    (\"user\", \"{question}\")])\n",
        "\n",
        "# 출력 파서 (응답 텍스트만 추출)\n",
        "parser = StrOutputParser()\n",
        "\n",
        "# LCEL 파이프라인 구성 (Prompt → LLM → Parser)\n",
        "chain = prompt | llm | parser\n",
        "\n",
        "# 실행 — invoke()에 직접 새로운 질문 전달\n",
        "result = chain.invoke({\"question\": \"김치전은 어떻게 만들면 맛있어요?\"})\n",
        "\n",
        "print(result)"
      ]
    },
    {
      "cell_type": "markdown",
      "id": "8ac65ec0",
      "metadata": {
        "cell_watermark": {
          "hash": "cmxhYWxzdG4xNTA0QG5hdmVyLmNvbQ==",
          "date": "2025-10-28",
          "uuid": "fdd1b71c-db40-4c5c-83ad-40531fa3694a"
        }
      },
      "source": [
        "##  4. Q&A 챗봇 실습 (LCEL)\n",
        "\n",
        "앞서 배운 **프롬프트 설계**와 **LCEL 파이프라인 구성법**을 직접 활용하여  \n",
        "“질문 → 답변” 형태의 **Q&A 챗봇**을 완성해보세요.\n",
        "\n",
        "단순히 모델을 호출하는 것이 아니라, **프롬프트 구조를 설계**하고 **출력 파서를 연결**하며  \n",
        " **LCEL 문법(| 연산자)** 을 이용해 **체인형 파이프라인**을 구성해야 합니다.\n",
        "\n",
        "##### 실습 시나리오\n",
        "> 당신은 **AI Q&A 챗봇 개발자**입니다.  \n",
        "> 사용자가 “기술 관련 질문”을 하면, 챗봇은 **요약 + 예시 + 비유 설명**을 포함한 답변을 하도록 만들어야 합니다.  \n",
        "> (예: “REST API란?”, “클라우드 컴퓨팅이 뭐야?”, “RAG는 어떤 구조야?” 등)\n",
        "\n",
        "즉, 단순한 정의를 넘어 “무엇인지 + 왜 중요한지 + 예시” 를 한 번에 설명하는 챗봇을 설계하세요.\n",
        "\n",
        "**과제 요구사항**\n",
        "\n",
        "1. **`ChatPromptTemplate`** 을 사용해 아래 구조의 프롬프트를 직접 설계하세요.\n",
        "   - `system`: 챗봇의 역할 정의  \n",
        "     (예: “너는 기술 개념을 쉬운 비유와 예시를 섞어서 설명하는 AI 선생님이야.”)\n",
        "   - `user`: 사용자의 질문을 `{question}` 변수로 전달\n",
        "\n",
        "2. **`ChatOpenAI`** 모델을 연결하세요.  \n",
        "   - 모델: `\"gpt-4o-mini\"`  \n",
        "   - `temperature=0.7` (조금 창의적인 답변 유도)\n",
        "\n",
        "3. **`StrOutputParser`** 를 사용하여 결과를 문자열로 출력하세요.\n",
        "\n",
        "4. **LCEL 문법**으로 체인을 완성하세요.  \n",
        "   예:  \n",
        "   ```python\n",
        "   chain = prompt | llm | parser\n",
        "   ```\n",
        "5. 실행해보고 답변이 지나치게 딱딱하거나 비유나 예시가 부족하면 Prompt를 직접 수정하면서 성능을 조정해보세요."
      ]
    },
    {
      "cell_type": "markdown",
      "id": "dfa2b98b",
      "metadata": {
        "cell_watermark": {
          "hash": "cmxhYWxzdG4xNTA0QG5hdmVyLmNvbQ==",
          "date": "2025-10-28",
          "uuid": "9ce38f66-76a8-44f9-a7e1-01de3b8227d9"
        }
      },
      "source": [
        "**질문 답변 예시:**  \n",
        "\n",
        "질문 : REST API란?  \n",
        "\n",
        "답변 :   \n",
        "\n",
        "① **정의**: REST API(Representational State Transfer Application Programming Interface)는 웹 상에서 서로 다른 프로그램이나 시스템이 데이터를 주고받을 수 있도록 하는 규칙과 방법을 정의한 인터페이스입니다. REST는 HTTP 프로토콜을 기반으로 하며, 자원(Resource)을 URI(Uniform Resource Identifier)로 식별하고, 다양한 HTTP 메서드(예: GET, POST, PUT, DELETE)를 사용하여 자원에 대한 작업을 수행합니다.\n",
        "\n",
        "② **이유(중요성)**: REST API는 서로 다른 시스템 간의 통신을 쉽고 효율적으로 만들어줍니다. 이를 통해 개발자들은 복잡한 시스템을 간단하게 연결하고, 데이터를 주고받을 수 있습니다. REST API는 웹 기반 애플리케이션에서 표준으로 자리잡고 있어, 다양한 서비스를 통합하고 확장하는 데 매우 중요합니다.\n",
        "\n",
        "③ **쉬운 예시**: REST API를 설명하기 위해 레스토랑을 비유로 들어볼 수 있습니다. 레스토랑의 메뉴판은 고객이 어떤 음식을 주문할 수 있는지를 보여주는 역할을 합니다. 고객(클라이언트)은 메뉴판(URI)을 보고 원하는 음식을 선택하고, 주문(HTTP 메서드)을 합니다. 주방(서버)은 고객의 주문을 받아 음식을 준비하고, 다시 고객에게 서빙합니다. 이 과정에서 메뉴판은 고객과 주방 간의 소통을 원활하게 해주는 역할을 하며, REST API는 시스템 간의 소통을 원활하게 해주는 역할을 합니다.\n"
      ]
    },
    {
      "cell_type": "code",
      "execution_count": null,
      "id": "c9d81c3d",
      "metadata": {
        "cell_watermark": {
          "hash": "cmxhYWxzdG4xNTA0QG5hdmVyLmNvbQ==",
          "date": "2025-10-28",
          "uuid": "77604b46-fca7-4c7e-b11f-0def18ed7848"
        }
      },
      "outputs": [],
      "source": [
        "### 여기에 과제 요구 사항을 작성하세요\n",
        "from langchain_openai import ChatOpenAI\n",
        "from langchain.prompts import ChatPromptTemplate\n",
        "from langchain_core.output_parsers import StrOutputParser"
      ]
    },
    {
      "cell_type": "markdown",
      "id": "ef4b2c11",
      "metadata": {
        "cell_watermark": {
          "hash": "cmxhYWxzdG4xNTA0QG5hdmVyLmNvbQ==",
          "date": "2025-10-28",
          "uuid": "60e8ee8a-cc08-45d3-922d-54bde8eacbc7"
        }
      },
      "source": [
        "<details>\n",
        "<summary>정답 보기</summary>\n",
        "\n",
        "```python \n",
        "from langchain_openai import ChatOpenAI\n",
        "from langchain.prompts import ChatPromptTemplate\n",
        "from langchain_core.output_parsers import StrOutputParser\n",
        "\n",
        "# 모델 선언\n",
        "llm = ChatOpenAI(model=\"gpt-4o-mini\", temperature=0.7)\n",
        "\n",
        "# 프롬프트 설계\n",
        "# system: 챗봇의 역할 정의\n",
        "# user: {question} 변수를 통해 질문 전달\n",
        "prompt = ChatPromptTemplate.from_messages([\n",
        "    (\"system\", \n",
        "     \"너는 기술 개념을 알기 쉽게 설명하는 AI 선생님이야. \"\n",
        "     \"답변은 반드시 ① 정의 ② 이유(중요성) ③ 쉬운 예시를 포함해야 해. \"\n",
        "     \"필요하다면 비유를 사용해도 좋아.\"),\n",
        "    (\"user\", \"{question}\")\n",
        "])\n",
        "\n",
        "# 출력 파서\n",
        "parser = StrOutputParser()\n",
        "\n",
        "# LCEL 체인 구성\n",
        "chain = prompt | llm | parser\n",
        "\n",
        "# 실행 테스트\n",
        "question = \"REST API란?\"\n",
        "answer = chain.invoke({\"question\": question})\n",
        "\n",
        "print(f\"🧠 질문: {question}\\n\")\n",
        "print(f\"💬 답변:\\n{answer}\")\n",
        "```\n",
        "</details>"
      ]
    },
    {
      "cell_type": "markdown",
      "id": "6b202d36",
      "metadata": {
        "cell_watermark": {
          "hash": "cmxhYWxzdG4xNTA0QG5hdmVyLmNvbQ==",
          "date": "2025-10-28",
          "uuid": "5c109850-714d-438e-95d2-18d73bb1c30f"
        }
      },
      "source": [
        "##  5. 대화형 챗봇 (메모리)\n",
        "\n",
        "### 🔹 Conversation Memory란?\n",
        "> **Conversation Memory(대화 메모리)** 는 LLM이 **이전 대화 내용을 기억하고 이어서 대답**할 수 있도록 하는 기능입니다.\n",
        "\n",
        "일반적인 LLM은 한 번의 요청(prompt)만 처리하고 끝나기 때문에,  \n",
        "사용자가 “아까 말한 여행지 일정 다시 알려줘.”처럼 과거 대화를 참조하면 맥락을 잃어버립니다.  \n",
        "→ 이때 필요한 것이 바로 **Memory(기억 기능)** 입니다."
      ]
    },
    {
      "cell_type": "markdown",
      "id": "debb2d23",
      "metadata": {
        "cell_watermark": {
          "hash": "cmxhYWxzdG4xNTA0QG5hdmVyLmNvbQ==",
          "date": "2025-10-28",
          "uuid": "228827c6-01b3-4984-b0d7-40a2950b77ae"
        }
      },
      "source": [
        "### 🔹 왜 Memory가 필요할까?\n",
        "\n",
        "| 상황 | Memory 없을 때 | Memory 있을 때 |\n",
        "|------|----------------|----------------|\n",
        "| 사용자: “부산 여행지 추천해줘.”<br>→ 모델이 답변함 | 다음 질문: “그럼 거기 근처 맛집은?”<br>→ 모델이 “어디 여행 말씀인가요?” | “부산 근처엔 회센터가 많고… 홍합탕집이 유명해요!” |\n",
        "| 사용자: “어제 추천해준 책 제목 다시 말해줘.” | “어떤 책을 말씀하시는 건가요?” | “어제 말씀드린 건 『데미안』이에요.” |\n",
        "\n",
        "👉 메모리를 활용하면,  \n",
        "모델이 “과거 대화의 맥락(Context)”을 유지한 채로  \n",
        "**자연스러운 멀티턴(Multi-turn) 대화형 챗봇**을 만들 수 있습니다."
      ]
    },
    {
      "cell_type": "markdown",
      "id": "3668daf9",
      "metadata": {
        "cell_watermark": {
          "hash": "cmxhYWxzdG4xNTA0QG5hdmVyLmNvbQ==",
          "date": "2025-10-28",
          "uuid": "5b1a2d5d-6140-46d2-ba1a-8cfee2c88b55"
        }
      },
      "source": [
        "### 🔹 LangChain에서의 Memory 개념\n",
        "\n",
        "LangChain은 다양한 형태의 “기억 클래스(memory classes)”를 제공합니다.  \n",
        "대표적으로 아래 세 가지를 이해하면 충분합니다 👇\n",
        "\n",
        "| Memory 클래스 | 설명 | 특징 |\n",
        "|----------------|------|------|\n",
        "| **`ConversationBufferMemory`** | 단순히 대화 전체를 계속 저장 | 가장 기본적이고 직관적 |\n",
        "| **`ConversationBufferWindowMemory`** | 최근 N개의 대화만 저장 | “단기 기억” 형태로, 긴 대화를 효율적으로 유지 |\n",
        "| **`ConversationSummaryMemory`** | 이전 대화를 LLM이 요약해서 저장 | 긴 대화를 “핵심 요약본”으로 관리, 장기 기억에 적합 |"
      ]
    },
    {
      "cell_type": "markdown",
      "id": "87974665",
      "metadata": {
        "cell_watermark": {
          "hash": "cmxhYWxzdG4xNTA0QG5hdmVyLmNvbQ==",
          "date": "2025-10-28",
          "uuid": "346e6e3a-c301-4c81-acc4-956ddde7046d"
        }
      },
      "source": [
        "### 🔹 프롬프트에 직접 넣는 방식 vs Memory 클래스 사용 비교\n",
        "\n",
        "| 비교 항목 | 프롬프트에 직접 삽입 | Memory 클래스 사용 |\n",
        "|------------|----------------------|---------------------|\n",
        "| 코드 복잡도 | ❌ 대화마다 프롬프트를 새로 생성해야 함 | ✅ LangChain이 자동으로 이전 대화 삽입 |\n",
        "| 확장성 | ❌ 대화가 길어지면 토큰 초과 문제 발생 | ✅ 오래된 대화는 요약/제한 가능 |\n",
        "| 유지보수 | ⚠️ 과거 대화 삽입 위치만 교체하면 되지만, 요약·토큰 제어를 직접 구현해야 함 | ✅ 메모리 객체만 관리하면 됨 |\n",
        "| 현실성 | ❌ “일회용 챗봇”에만 적합 | ✅ “지속형 대화형 챗봇” 구현 가능 |\n",
        "\n",
        "즉, **Memory는 LLM이 “대화 히스토리를 스스로 관리”하도록 하는 스마트한 도우미 클래스**입니다."
      ]
    },
    {
      "cell_type": "markdown",
      "id": "cb776f41",
      "metadata": {
        "cell_watermark": {
          "hash": "cmxhYWxzdG4xNTA0QG5hdmVyLmNvbQ==",
          "date": "2025-10-28",
          "uuid": "da75956c-6851-490b-82ae-1657be05ce31"
        }
      },
      "source": [
        "### 🔹 Memory 작동 원리\n",
        "User → LLM (질문1)  \n",
        "LLM → Memory (답변 저장)  \n",
        "User → LLM (질문2)  \n",
        "Memory → LLM (이전 대화 자동 제공)  \n",
        "→ LLM은 맥락을 이해하고 연속된 답변 생성  \n",
        "\n",
        "LangChain이 자동으로  \n",
        "“이전 대화 기록 → Prompt에 포함 → LLM 호출” 과정을 처리합니다.  \n",
        "사용자는 별도로 이전 대화를 직접 넣지 않아도 됩니다."
      ]
    },
    {
      "cell_type": "markdown",
      "id": "418e415f",
      "metadata": {
        "cell_watermark": {
          "hash": "cmxhYWxzdG4xNTA0QG5hdmVyLmNvbQ==",
          "date": "2025-10-28",
          "uuid": "079f05f1-a21f-4222-b0ec-464d4aeb3e25"
        },
        "vscode": {
          "languageId": "plaintext"
        }
      },
      "source": [
        "### 코드 예시 1. 기본 Buffer Memory (대화 전체 저장)"
      ]
    },
    {
      "cell_type": "code",
      "execution_count": null,
      "id": "f76ea2c8",
      "metadata": {
        "cell_watermark": {
          "hash": "cmxhYWxzdG4xNTA0QG5hdmVyLmNvbQ==",
          "date": "2025-10-28",
          "uuid": "4a72dc85-ebf9-423e-b1fd-059509c72817"
        }
      },
      "outputs": [
        {
          "name": "stdout",
          "output_type": "stream",
          "text": [
            "\n",
            "사용자: 부산 여행지 추천해줘.\n",
            " 응답: 부산은 아름다운 해변과 풍부한 문화유산으로 유명한 도시입니다. 다음은 부산에서 꼭 방문해볼 만한 여행지 몇 곳을 추천해 드릴게요!\n",
            "\n",
            "1. **해운대 해수욕장**: 부산의 대표적인 해변으로 여름철에는 많은 사람들이 찾는 곳입니다. 해변 산책, 다양한 해양 스포츠를 즐길 수 있고, 주변에 맛집과 카페도 많습니다.\n",
            "\n",
            "2. **광안리 해수욕장**: 광안대교와 함께 아름다운 야경을 감상할 수 있는 곳으로, 저녁에 방문하면 멋진 경치를 즐길 수 있습니다. 해변의 바다에서 수영이나 서핑도 가능합니다.\n",
            "\n",
            "3. **부산 타워**: 용두산 공원에 위치한 부산 타워에서는 부산 시내와 바다의 아름다운 전경을 감상할 수 있습니다. 특히 해질녘에 방문하면 더욱 환상적인 경치를 볼 수 있습니다.\n",
            "\n",
            "4. **자갈치 시장**: 부산의 대표적인 수산물 시장으로 신선한 해산물을 맛볼 수 있습니다. 다양한 해산물 요리를 즐기고, 시장 구경도 할 수 있는 재미있는 장소입니다.\n",
            "\n",
            "5. **감천문화마을**: 독특한 색깔의 집들이 어우러져 있는 마을로, 예술적인 감성이 가득한 곳입니다. 여러 포토존이 있어 사진 찍기에 좋고, 다양한 예술 작품도 감상할 수 있습니다.\n",
            "\n",
            "6. **부산 영화의 전당**: 부산국제영화제가 열리는 장소로, 독특한 건축물과 함께 다양한 영화 관련 행사와 전시가 열립니다. 영화에 관심이 있다면 방문해보세요.\n",
            "\n",
            "7. **해동용궁사**: 바닷가에 위치한 아름다운 사찰로, 경치가 매우 아름답습니다. 바다를 배경으로 한 사찰의 풍경이 인상적이며, 마음의 안정을 찾기에 좋은 곳입니다.\n",
            "\n",
            "이 외에도 부산에는 많은 매력적인 장소가 있으니, 여행 계획에 참고해보세요! 즐거운 여행 되시길 바랍니다!\n",
            "\n",
            "사용자: 그럼 그 근처 맛집은 어디야?\n",
            " 응답: 부산은 맛있는 음식으로 유명한 도시입니다. 추천한 여행지 근처의 맛집들을 소개해 드릴게요!\n",
            "\n",
            "1. **해운대 해수욕장 근처**:\n",
            "   - **해운대 암소갈비**: 질 좋은 한우 갈비를 맛볼 수 있는 곳으로, 해운대에서 매우 인기 있는 식당입니다.\n",
            "   - **미포횟집**: 신선한 회와 해산물을 제공하는 식당으로, 바다를 바라보며 식사할 수 있어 경치도 즐길 수 있습니다.\n",
            "\n",
            "2. **광안리 해수욕장 근처**:\n",
            "   - **광안리 막창**: 소막창과 다양한 고기 요리를 전문으로 하는 맛집입니다. 현지인들에게도 인기가 많습니다.\n",
            "   - **광안리 해물탕**: 신선한 해물로 만든 해물탕을 맛볼 수 있는 곳으로, 시원한 국물 맛이 일품입니다.\n",
            "\n",
            "3. **자갈치 시장 근처**:\n",
            "   - **자갈치 아지매의 집**: 자갈치 시장 내부에 위치한 식당으로, 신선한 회를 저렴하게 맛볼 수 있습니다. 다양한 해산물 요리를 즐길 수 있습니다.\n",
            "   - **부산갈매기**: 생선구이와 해산물 요리로 유명한 곳으로, 자갈치 시장에서 가까운 편리한 위치에 있습니다.\n",
            "\n",
            "4. **감천문화마을 근처**:\n",
            "   - **감천문화마을 카페**: 감천문화마을 내에는 아기자기한 카페가 많고, 이곳에서는 다양한 디저트와 음료를 즐길 수 있습니다. 특히 뷰가 좋은 카페가 많습니다.\n",
            "   - **오복통닭**: 감천문화마을에서 조금 떨어진 곳에 있는 통닭 전문점으로, 바삭한 튀김옷이 인기입니다.\n",
            "\n",
            "5. **부산 영화의 전당 근처**:\n",
            "   - **영화의 전당 카페**: 영화의 전당 내에 있는 카페로, 영화 관람 전후에 가벼운 식사나 음료를 즐길 수 있습니다.\n",
            "   - **부산국제영화제 기간 동안**: 특별 팝업 레스토랑이나 푸드트럭이 운영되기도 하니, 그때 가시면 다양한 음식을 맛볼 수 있습니다.\n",
            "\n",
            "부산은 다양한 맛집이 많으니, 여행 중에 새로운 미식을 즐겨보세요! 맛있는 음식과 함께 즐거운 여행 되시길 바랍니다!\n",
            "\n",
            "사용자: 이번엔 여수로 가면 어때?\n",
            " 응답: 여수는 아름다운 해안선과 풍부한 자연경관, 맛있는 해산물로 유명한 도시입니다. 여수의 매력을 만끽할 수 있는 여행지를 추천해 드릴게요!\n",
            "\n",
            "### 여수 여행지 추천\n",
            "\n",
            "1. **여수 해양공원**: 여수의 대표적인 해양 공원으로, 바다를 바라보며 산책할 수 있는 좋은 장소입니다. 특히 저녁에 조명이 켜진 바다의 풍경이 아름답습니다.\n",
            "\n",
            "2. **오동도**: 여수의 대표적인 섬으로, 다양한 식물과 꽃들이 있는 공원이 조성되어 있습니다. 섬을 한 바퀴 도는 트레킹 코스가 있어 자연을 만끽할 수 있습니다.\n",
            "\n",
            "3. **돌산대교**: 여수와 돌산을 연결하는 다리로, 다리 위에서 바라보는 경치가 일품입니다. 특히 해질녘에 아름다운 노을을 감상할 수 있습니다.\n",
            "\n",
            "4. **향일암**: 바닷가에 위치한 사찰로, 멋진 바다 경치를 감상할 수 있는 곳입니다. 해돋이 명소로도 유명하여 일출을 보기 위해 많은 사람들이 찾습니다.\n",
            "\n",
            "5. **여수 엑스포 공원**: 2012년 세계박람회가 열린 곳으로, 다양한 전시관과 조형물들이 있습니다. 공원 내에서 여수 바다를 감상할 수 있는 좋은 장소입니다.\n",
            "\n",
            "### 여수 맛집 추천\n",
            "\n",
            "1. **여수 수산시장**: 신선한 해산물을 직접 구매하여 회나 구이를 즐길 수 있는 장소입니다. 다양한 해산물 요리를 저렴하게 맛볼 수 있습니다.\n",
            "\n",
            "2. **오동도 횟집**: 신선한 회와 해산물 요리를 전문으로 하는 식당으로, 바다를 바라보며 식사할 수 있는 좋은 위치에 있습니다.\n",
            "\n",
            "3. **여수 명물 갓김치**: 여수는 갓김치로 유명합니다. 갓김치를 전문으로 판매하는 가게에서 다양한 김치를 맛볼 수 있습니다.\n",
            "\n",
            "4. **여수 바다횟집**: 신선한 회와 해산물 플래터로 유명한 곳입니다. 특히 여수의 바다에서 잡힌 회를 즐길 수 있습니다.\n",
            "\n",
            "5. **여수 굴비 맛집**: 여수의 특산물인 굴비를 맛볼 수 있는 식당들이 많습니다. 구운 굴비를 밥과 함께 즐길 수 있습니다.\n",
            "\n",
            "여수는 아름다운 경치와 맛있는 음식이 가득한 도시입니다. 여행을 계획하신다면 꼭 방문해보세요! 즐거운 여행 되시길 바랍니다!\n"
          ]
        }
      ],
      "source": [
        "### 코드 예시 ① 기본 Buffer Memory\n",
        "from langchain_openai import ChatOpenAI\n",
        "from langchain.memory import ConversationBufferMemory\n",
        "from langchain.prompts import ChatPromptTemplate, MessagesPlaceholder\n",
        "\n",
        "# 모델 선언\n",
        "llm = ChatOpenAI(model=\"gpt-4o-mini\")\n",
        "\n",
        "# 메모리 객체 생성 (대화 전체를 버퍼 형태로 저장)\n",
        "memory = ConversationBufferMemory(return_messages=True)\n",
        "\n",
        "# 프롬프트 템플릿\n",
        "prompt = ChatPromptTemplate.from_messages([\n",
        "    (\"system\", \"너는 여행 전문가야. 사용자의 질문에 친절하게 답해줘.\"),\n",
        "    MessagesPlaceholder(variable_name=\"history\"),  # 이전 대화 삽입 위치\n",
        "    (\"human\", \"{input}\")                           # 사용자 질문\n",
        "]) \n",
        "\n",
        "# LCEL 체인 구성\n",
        "chain = prompt | llm \n",
        "\n",
        "# 5️⃣ 연속 대화 시뮬레이션\n",
        "inputs = [\"부산 여행지 추천해줘.\", \"그럼 그 근처 맛집은 어디야?\"]\n",
        "\n",
        "for user_input in inputs:\n",
        "    # 메모리 불러오기\n",
        "    history = memory.load_memory_variables({})[\"history\"]\n",
        "    # 실행\n",
        "    result = chain.invoke({\"history\": history, \"input\": user_input})\n",
        "    # 결과 출력\n",
        "    print(f\"\\n사용자: {user_input}\\n 응답: {result.content}\")\n",
        "    # 메모리에 저장\n",
        "    memory.save_context({\"input\": user_input}, {\"output\": result.content})"
      ]
    },
    {
      "cell_type": "markdown",
      "id": "e23c1755",
      "metadata": {
        "cell_watermark": {
          "hash": "cmxhYWxzdG4xNTA0QG5hdmVyLmNvbQ==",
          "date": "2025-10-28",
          "uuid": "94a3f7f3-fcd1-4b14-b0c3-eb6e13f14814"
        }
      },
      "source": [
        "모델은 앞선 “부산 여행” 대화를 기억하고 자연스럽게 이어서 대답합니다."
      ]
    },
    {
      "cell_type": "code",
      "execution_count": 4,
      "id": "c9b50356",
      "metadata": {
        "cell_watermark": {
          "hash": "cmxhYWxzdG4xNTA0QG5hdmVyLmNvbQ==",
          "date": "2025-10-28",
          "uuid": "be45b2d9-ccf0-4d18-81fc-97f8f5e6e682"
        }
      },
      "outputs": [
        {
          "data": {
            "text/plain": [
              "[HumanMessage(content='부산 여행지 추천해줘.'),\n",
              " AIMessage(content='부산은 아름다운 해변과 풍부한 문화유산으로 유명한 도시입니다. 다음은 부산에서 꼭 방문해볼 만한 여행지 몇 곳을 추천해 드릴게요!\\n\\n1. **해운대 해수욕장**: 부산의 대표적인 해변으로 여름철에는 많은 사람들이 찾는 곳입니다. 해변 산책, 다양한 해양 스포츠를 즐길 수 있고, 주변에 맛집과 카페도 많습니다.\\n\\n2. **광안리 해수욕장**: 광안대교와 함께 아름다운 야경을 감상할 수 있는 곳으로, 저녁에 방문하면 멋진 경치를 즐길 수 있습니다. 해변의 바다에서 수영이나 서핑도 가능합니다.\\n\\n3. **부산 타워**: 용두산 공원에 위치한 부산 타워에서는 부산 시내와 바다의 아름다운 전경을 감상할 수 있습니다. 특히 해질녘에 방문하면 더욱 환상적인 경치를 볼 수 있습니다.\\n\\n4. **자갈치 시장**: 부산의 대표적인 수산물 시장으로 신선한 해산물을 맛볼 수 있습니다. 다양한 해산물 요리를 즐기고, 시장 구경도 할 수 있는 재미있는 장소입니다.\\n\\n5. **감천문화마을**: 독특한 색깔의 집들이 어우러져 있는 마을로, 예술적인 감성이 가득한 곳입니다. 여러 포토존이 있어 사진 찍기에 좋고, 다양한 예술 작품도 감상할 수 있습니다.\\n\\n6. **부산 영화의 전당**: 부산국제영화제가 열리는 장소로, 독특한 건축물과 함께 다양한 영화 관련 행사와 전시가 열립니다. 영화에 관심이 있다면 방문해보세요.\\n\\n7. **해동용궁사**: 바닷가에 위치한 아름다운 사찰로, 경치가 매우 아름답습니다. 바다를 배경으로 한 사찰의 풍경이 인상적이며, 마음의 안정을 찾기에 좋은 곳입니다.\\n\\n이 외에도 부산에는 많은 매력적인 장소가 있으니, 여행 계획에 참고해보세요! 즐거운 여행 되시길 바랍니다!'),\n",
              " HumanMessage(content='그럼 그 근처 맛집은 어디야?'),\n",
              " AIMessage(content='부산은 맛있는 음식으로 유명한 도시입니다. 추천한 여행지 근처의 맛집들을 소개해 드릴게요!\\n\\n1. **해운대 해수욕장 근처**:\\n   - **해운대 암소갈비**: 질 좋은 한우 갈비를 맛볼 수 있는 곳으로, 해운대에서 매우 인기 있는 식당입니다.\\n   - **미포횟집**: 신선한 회와 해산물을 제공하는 식당으로, 바다를 바라보며 식사할 수 있어 경치도 즐길 수 있습니다.\\n\\n2. **광안리 해수욕장 근처**:\\n   - **광안리 막창**: 소막창과 다양한 고기 요리를 전문으로 하는 맛집입니다. 현지인들에게도 인기가 많습니다.\\n   - **광안리 해물탕**: 신선한 해물로 만든 해물탕을 맛볼 수 있는 곳으로, 시원한 국물 맛이 일품입니다.\\n\\n3. **자갈치 시장 근처**:\\n   - **자갈치 아지매의 집**: 자갈치 시장 내부에 위치한 식당으로, 신선한 회를 저렴하게 맛볼 수 있습니다. 다양한 해산물 요리를 즐길 수 있습니다.\\n   - **부산갈매기**: 생선구이와 해산물 요리로 유명한 곳으로, 자갈치 시장에서 가까운 편리한 위치에 있습니다.\\n\\n4. **감천문화마을 근처**:\\n   - **감천문화마을 카페**: 감천문화마을 내에는 아기자기한 카페가 많고, 이곳에서는 다양한 디저트와 음료를 즐길 수 있습니다. 특히 뷰가 좋은 카페가 많습니다.\\n   - **오복통닭**: 감천문화마을에서 조금 떨어진 곳에 있는 통닭 전문점으로, 바삭한 튀김옷이 인기입니다.\\n\\n5. **부산 영화의 전당 근처**:\\n   - **영화의 전당 카페**: 영화의 전당 내에 있는 카페로, 영화 관람 전후에 가벼운 식사나 음료를 즐길 수 있습니다.\\n   - **부산국제영화제 기간 동안**: 특별 팝업 레스토랑이나 푸드트럭이 운영되기도 하니, 그때 가시면 다양한 음식을 맛볼 수 있습니다.\\n\\n부산은 다양한 맛집이 많으니, 여행 중에 새로운 미식을 즐겨보세요! 맛있는 음식과 함께 즐거운 여행 되시길 바랍니다!'),\n",
              " HumanMessage(content='이번엔 여수로 가면 어때?'),\n",
              " AIMessage(content='여수는 아름다운 해안선과 풍부한 자연경관, 맛있는 해산물로 유명한 도시입니다. 여수의 매력을 만끽할 수 있는 여행지를 추천해 드릴게요!\\n\\n### 여수 여행지 추천\\n\\n1. **여수 해양공원**: 여수의 대표적인 해양 공원으로, 바다를 바라보며 산책할 수 있는 좋은 장소입니다. 특히 저녁에 조명이 켜진 바다의 풍경이 아름답습니다.\\n\\n2. **오동도**: 여수의 대표적인 섬으로, 다양한 식물과 꽃들이 있는 공원이 조성되어 있습니다. 섬을 한 바퀴 도는 트레킹 코스가 있어 자연을 만끽할 수 있습니다.\\n\\n3. **돌산대교**: 여수와 돌산을 연결하는 다리로, 다리 위에서 바라보는 경치가 일품입니다. 특히 해질녘에 아름다운 노을을 감상할 수 있습니다.\\n\\n4. **향일암**: 바닷가에 위치한 사찰로, 멋진 바다 경치를 감상할 수 있는 곳입니다. 해돋이 명소로도 유명하여 일출을 보기 위해 많은 사람들이 찾습니다.\\n\\n5. **여수 엑스포 공원**: 2012년 세계박람회가 열린 곳으로, 다양한 전시관과 조형물들이 있습니다. 공원 내에서 여수 바다를 감상할 수 있는 좋은 장소입니다.\\n\\n### 여수 맛집 추천\\n\\n1. **여수 수산시장**: 신선한 해산물을 직접 구매하여 회나 구이를 즐길 수 있는 장소입니다. 다양한 해산물 요리를 저렴하게 맛볼 수 있습니다.\\n\\n2. **오동도 횟집**: 신선한 회와 해산물 요리를 전문으로 하는 식당으로, 바다를 바라보며 식사할 수 있는 좋은 위치에 있습니다.\\n\\n3. **여수 명물 갓김치**: 여수는 갓김치로 유명합니다. 갓김치를 전문으로 판매하는 가게에서 다양한 김치를 맛볼 수 있습니다.\\n\\n4. **여수 바다횟집**: 신선한 회와 해산물 플래터로 유명한 곳입니다. 특히 여수의 바다에서 잡힌 회를 즐길 수 있습니다.\\n\\n5. **여수 굴비 맛집**: 여수의 특산물인 굴비를 맛볼 수 있는 식당들이 많습니다. 구운 굴비를 밥과 함께 즐길 수 있습니다.\\n\\n여수는 아름다운 경치와 맛있는 음식이 가득한 도시입니다. 여행을 계획하신다면 꼭 방문해보세요! 즐거운 여행 되시길 바랍니다!')]"
            ]
          },
          "execution_count": 4,
          "metadata": {},
          "output_type": "execute_result"
        }
      ],
      "source": [
        "memory.load_memory_variables({})['history']"
      ]
    },
    {
      "cell_type": "markdown",
      "id": "64a89041",
      "metadata": {
        "cell_watermark": {
          "hash": "cmxhYWxzdG4xNTA0QG5hdmVyLmNvbQ==",
          "date": "2025-10-28",
          "uuid": "d4ac988e-4458-4a3c-92ec-5df0e1afb1b9"
        }
      },
      "source": [
        "### 코드 예시 2. 최근 대화만 유지 (Window Memory)"
      ]
    },
    {
      "cell_type": "code",
      "execution_count": 9,
      "id": "69d6e21e",
      "metadata": {
        "cell_watermark": {
          "hash": "cmxhYWxzdG4xNTA0QG5hdmVyLmNvbQ==",
          "date": "2025-10-28",
          "uuid": "783c5047-7723-49d4-9f6b-573a473095c1"
        }
      },
      "outputs": [
        {
          "name": "stdout",
          "output_type": "stream",
          "text": [
            "\n",
            "사용자: 부산 여행지 추천해줘.\n",
            " 응답: 부산은 아름다운 해변과 다양한 문화 명소가 있는 매력적인 도시입니다. 다음은 부산 여행 시 추천할 만한 장소들입니다:\n",
            "\n",
            "1. **해운대 해수욕장**: 부산의 대표적인 해변으로, 여름철에 많은 관광객이 찾습니다. 해변가에는 카페와 레스토랑이 많아 산책하기 좋습니다.\n",
            "\n",
            "2. **광안리 해수욕장**: 광안대교의 멋진 야경을 감상할 수 있는 곳입니다. 밤에는 해변가에서 바베큐를 즐기거나, 카페에서 차를 마시며 여유로운 시간을 보낼 수 있습니다.\n",
            "\n",
            "3. **부산타워**: 용두산 공원 안에 위치한 타워로, 부산 전경을 한눈에 볼 수 있는 곳입니다. 특히 저녁에 야경이 아름답습니다.\n",
            "\n",
            "4. **자갈치 시장**: 부산의 대표적인 수산물 시장으로, 신선한 해산물을 맛볼 수 있습니다. 다양한 해산물 요리를 경험해보세요.\n",
            "\n",
            "5. **감천문화마을**: 알록달록한 집들이 모여 있는 독특한 마을로, 예술적인 분위기를 느낄 수 있습니다. 사진 찍기 좋은 포인트도 많습니다.\n",
            "\n",
            "6. **부산 영화의 전당**: 부산국제영화제가 열리는 장소로, 독특한 건축물과 다양한 영화 관련 프로그램이 있어 영화 팬에게 추천합니다.\n",
            "\n",
            "7. **태종대**: 바다 절경을 감상할 수 있는 자연 명소로, 산책로와 등대가 있습니다. 일몰 시간에 가면 정말 아름다운 경치를 감상할 수 있습니다.\n",
            "\n",
            "8. **송정 해수욕장**: 해운대보다 덜 붐비는 조용한 해변으로, 서핑과 같은 액티비티를 즐기기에 좋습니다.\n",
            "\n",
            "부산은 다양한 매력이 있는 도시이니, 여행 계획에 맞춰 즐거운 시간 보내세요!\n",
            "\n",
            "사용자: 대한 민국의 수도는 어디야?\n",
            " 응답: 대한민국의 수도는 서울입니다. 서울은 한국의 정치, 경제, 문화 중심지로, 다양한 역사적 명소와 현대적인 시설이 조화를 이루고 있는 도시입니다. 궁궐, 박물관, 쇼핑 거리 등 많은 관광 명소가 있어 방문객들에게 매력적인 장소입니다.\n",
            "\n",
            "사용자: 서울의 인구는 몇명이야?\n",
            " 응답: 2023년 기준으로 서울의 인구는 약 9백만 명 이상입니다. 서울은 대한민국의 수도이자 가장 큰 도시로, 다양한 문화와 경제 활동이 집중되어 있습니다. 인구는 해마다 변동이 있을 수 있으니, 최신 통계를 확인하는 것이 좋습니다.\n",
            "\n",
            "사용자: 내가 아까 추천해달라고 한 어행지는 어디야?\n",
            " 응답: 여행지를 추천해드리기 위해서는 어떤 종류의 여행을 원하시는지, 혹은 어떤 경험을 하고 싶은지에 대한 정보가 필요합니다. 예를 들어, 자연 경관을 즐기고 싶으신지, 역사적인 장소를 탐방하고 싶으신지, 아니면 현대적인 도시를 둘러보고 싶으신지 말씀해 주시면, 더 구체적인 추천을 해드릴 수 있습니다!\n"
          ]
        }
      ],
      "source": [
        "### 코드 예시 ① 기본 Buffer Memory\n",
        "from langchain_openai import ChatOpenAI\n",
        "from langchain.memory import ConversationBufferWindowMemory\n",
        "from langchain.prompts import ChatPromptTemplate, MessagesPlaceholder\n",
        "\n",
        "# 모델 선언\n",
        "llm = ChatOpenAI(model=\"gpt-4o-mini\")\n",
        "\n",
        "# 메모리 객체 생성 (대화 전체를 버퍼 형태로 저장)\n",
        "memory = ConversationBufferWindowMemory(k=2, return_messages=True)\n",
        "\n",
        "# 프롬프트 템플릿\n",
        "prompt = ChatPromptTemplate.from_messages([\n",
        "    (\"system\", \"너는 여행 전문가야. 사용자의 질문에 친절하게 답해줘.\"),\n",
        "    MessagesPlaceholder(variable_name=\"history\"),  # 이전 대화 삽입 위치\n",
        "    (\"human\", \"{input}\")                           # 사용자 질문\n",
        "]) \n",
        "\n",
        "# LCEL 체인 구성\n",
        "chain = prompt | llm \n",
        "\n",
        "# 5️⃣ 연속 대화 시뮬레이션\n",
        "inputs = [\"부산 여행지 추천해줘.\", \"대한 민국의 수도는 어디야?\", \"서울의 인구는 몇명이야?\", \"내가 아까 추천해달라고 한 어행지는 어디야?\" ]\n",
        "\n",
        "for user_input in inputs:\n",
        "    # 메모리 불러오기\n",
        "    history = memory.load_memory_variables({})[\"history\"]\n",
        "    # 실행\n",
        "    result = chain.invoke({\"history\": history, \"input\": user_input})\n",
        "    # 결과 출력\n",
        "    print(f\"\\n사용자: {user_input}\\n 응답: {result.content}\")\n",
        "    # 메모리에 저장\n",
        "    memory.save_context({\"input\": user_input}, {\"output\": result.content})\n"
      ]
    },
    {
      "cell_type": "markdown",
      "id": "278d3fde",
      "metadata": {
        "cell_watermark": {
          "hash": "cmxhYWxzdG4xNTA0QG5hdmVyLmNvbQ==",
          "date": "2025-10-28",
          "uuid": "947088c4-22f9-490a-8ff3-115770b979d7"
        }
      },
      "source": [
        "이 방식은 단기 기억처럼 작동합니다.  \n",
        "오래된 대화는 자동으로 지워져 토큰 낭비를 줄이고 효율성을 높입니다."
      ]
    },
    {
      "cell_type": "code",
      "execution_count": 10,
      "id": "c332aa80",
      "metadata": {
        "cell_watermark": {
          "hash": "cmxhYWxzdG4xNTA0QG5hdmVyLmNvbQ==",
          "date": "2025-10-28",
          "uuid": "aabfcc5e-77cf-4777-af3b-e312bad59ae2"
        }
      },
      "outputs": [
        {
          "name": "stdout",
          "output_type": "stream",
          "text": [
            "\n",
            "👤 사용자: 이번 주말에 가족 여행지 추천해줘.\n",
            "🤖 응답: 이번 주말 가족 여행지로 몇 가지 추천해드릴게요. 여러분의 관심사와 위치에 따라 선택해보세요!\n",
            "\n",
            "1. **국립공원 탐방**\n",
            "   - **예시**: 설악산 국립공원\n",
            "   - **추천 이유**: 아름다운 자연 경관과 다양한 하이킹 코스가 있어 가족 모두가 즐길 수 있습니다. 가벼운 등산이나 피크닉도 가능합니다.\n",
            "\n",
            "2. **테마파크**\n",
            "   - **예시**: 에버랜드, 롯데월드\n",
            "   - **추천 이유**: 다양한 놀이기구와 공연이 있어 아이들이 즐길 수 있는 최적의 장소입니다. 가족 단위로 하루 종일 즐기기에 좋습니다.\n",
            "\n",
            "3. **해변 여행**\n",
            "   - **예시**: 강릉, 속초\n",
            "   - **추천 이유**: 바다에서 물놀이와 해수욕, 신선한 해산물을 즐길 수 있습니다. 근처에 있는 카페나 맛집도 탐방해보세요.\n",
            "\n",
            "4. **문화 체험**\n",
            "   - **예시**: 경주\n",
            "   - **추천 이유**: 역사적인 유적지와 문화재가 많아 아이들에게 교육적인 경험을 제공합니다. 경주 불국사, 석굴암 등을 방문해보세요.\n",
            "\n",
            "5. **농촌 체험**\n",
            "   - **예시**: 전남 담양, 충남 공주\n",
            "   - **추천 이유**: 농활 체험을 통해 자연을 가까이에서 느끼고, 다양한 작물을 수확해보는 재미를 느낄 수 있습니다. \n",
            "\n",
            "여행을 계획할 때는 교통편, 숙박시설, 식사 장소도 미리 확인해보세요. 즐거운 가족 여행 되시길 바랍니다!\n",
            "\n",
            "👤 사용자: 지난번에 추천한 곳 중에 아이들이 놀기 좋은 곳은 어디였지?\n",
            "🤖 응답: 아이들이 놀기 좋은 곳으로는 **테마파크**가 가장 적합합니다. 예를 들어, **에버랜드**나 **롯데월드**는 다양한 놀이기구와 공연이 있어서 아이들이 하루 종일 즐겁게 놀 수 있는 장소입니다. 이 외에도 다양한 어린이 전용 공간과 체험 프로그램이 마련되어 있어 가족 모두가 즐길 수 있는 곳입니다. \n",
            "\n",
            "혹시 이 외에 다른 옵션이나 자세한 정보를 원하시면 말씀해 주세요!\n",
            "\n",
            "👤 사용자: 그럼 거기 일정표를 하루만 짜줘.\n",
            "🤖 응답: 물론입니다! 가족과 함께 즐길 수 있는 하루 일정으로 에버랜드를 제안드릴게요. 에버랜드는 다양한 놀이기구와 공연, 동물원 등이 있어 가족 모두가 즐기기에 좋은 장소입니다.\n",
            "\n",
            "### 에버랜드 하루 일정\n",
            "\n",
            "**08:00 - 09:00**  \n",
            "- **출발 준비 및 이동**  \n",
            "  - 아침 식사를 간단히 하고 에버랜드로 이동합니다. 대중교통이나 자가용을 이용할 수 있습니다.\n",
            "\n",
            "**09:00 - 09:30**  \n",
            "- **입장 및 지도 확인**  \n",
            "  - 에버랜드에 도착 후 입장하고, 공원 지도를 확인하여 관심 있는 구역을 정리합니다.\n",
            "\n",
            "**09:30 - 12:00**  \n",
            "- **어트랙션 즐기기**  \n",
            "  - **로스트 밸리**에서 수상 스키 및 물놀이 어트랙션을 즐깁니다. \n",
            "  - 어린이와 함께 탈 수 있는 **주토피아** 테마의 놀이기구를 이용합니다.\n",
            "\n",
            "**12:00 - 13:00**  \n",
            "- **점심 식사**  \n",
            "  - 공원 내 패밀리 레스토랑에서 간단한 점심을 먹습니다. 아이들이 좋아하는 피자나 햄버거를 추천합니다.\n",
            "\n",
            "**13:00 - 15:00**  \n",
            "- **동물원 탐방**  \n",
            "  - **에버랜드 사파리**를 방문하여 다양한 동물을 관람합니다. 아이들에게 동물에 대해 설명해주며 교육적인 시간을 가집니다.\n",
            "\n",
            "**15:00 - 16:30**  \n",
            "- **놀이기구 및 공연 관람**  \n",
            "  - **T익스프레스**와 같은 스릴 넘치는 놀이기구를 즐기고, 이후 **퍼레이드**나 **공연**을 관람합니다.\n",
            "\n",
            "**16:30 - 18:00**  \n",
            "- **기념품 쇼핑 및 간식 시간**  \n",
            "  - 에버랜드의 기념품 가게를 둘러보며 가족 사진과 기념품을 구매합니다. 공원 내에서 간단한 간식을 먹습니다.\n",
            "\n",
            "**18:00 - 19:00**  \n",
            "- **저녁 식사**  \n",
            "  - 에버랜드 근처의 레스토랑에서 저녁을 먹습니다. 지역 특색 있는 음식을 맛보는 것도 좋습니다.\n",
            "\n",
            "**19:00 - 20:00**  \n",
            "- **야경 감상 및 귀가**  \n",
            "  - 에버랜드의 야경을 감상하고, 가족과 함께 사진을 찍습니다. 이후 집으로 안전하게 귀가합니다.\n",
            "\n",
            "이렇게 하루 일정으로 에버랜드를 즐길 수 있습니다! 미리 티켓을 예약하고, 날씨도 체크하여 준비하시면 좋습니다. 추가적인 정보가 필요하시면 말씀해 주세요!\n"
          ]
        }
      ],
      "source": [
        "from langchain_openai import ChatOpenAI\n",
        "from langchain.memory import ConversationSummaryMemory\n",
        "from langchain.prompts import ChatPromptTemplate, MessagesPlaceholder\n",
        "\n",
        "# 모델 선언\n",
        "llm = ChatOpenAI(model=\"gpt-4o-mini\", temperature=0.7)\n",
        "\n",
        "# 요약형 메모리 생성 — LLM이 과거 대화를 자동 요약하여 저장\n",
        "memory = ConversationSummaryMemory(llm=llm, return_messages=True)\n",
        "\n",
        "# 프롬프트 템플릿 정의\n",
        "prompt = ChatPromptTemplate.from_messages([\n",
        "    (\"system\", \"너는 여행 플래너야. 사용자의 요구에 따라 가족 여행 일정을 제안해줘.\"),\n",
        "    MessagesPlaceholder(variable_name=\"history\"),  # 요약된 과거 대화 자동 삽입\n",
        "    (\"human\", \"{input}\")                           # 현재 질문\n",
        "])\n",
        "\n",
        "# LCEL 체인 구성\n",
        "chain = prompt | llm\n",
        "\n",
        "# 연속 대화 시뮬레이션\n",
        "inputs = [\n",
        "    \"이번 주말에 가족 여행지 추천해줘.\",\n",
        "    \"지난번에 추천한 곳 중에 아이들이 놀기 좋은 곳은 어디였지?\",\n",
        "    \"그럼 거기 일정표를 하루만 짜줘.\"\n",
        "]\n",
        "\n",
        "for user_input in inputs:\n",
        "    history = memory.load_memory_variables({})[\"history\"]\n",
        "    result = chain.invoke({\"history\": history, \"input\": user_input})\n",
        "    print(f\"\\n👤 사용자: {user_input}\\n🤖 응답: {result.content}\")\n",
        "    memory.save_context({\"input\": user_input}, {\"output\": result.content})"
      ]
    },
    {
      "cell_type": "code",
      "execution_count": null,
      "id": "6a12ef67",
      "metadata": {
        "cell_watermark": {
          "hash": "cmxhYWxzdG4xNTA0QG5hdmVyLmNvbQ==",
          "date": "2025-10-28",
          "uuid": "5b1e8332-d7e8-41c0-886c-b8256734b7ff"
        }
      },
      "outputs": [
        {
          "name": "stdout",
          "output_type": "stream",
          "text": [
            "The human asks the AI for family trip recommendations for the upcoming weekend. The AI suggests options based on interests and location, including a national park visit, theme parks, beach trips, cultural experiences, and rural experiences, advising to check transportation, accommodation, and dining options in advance. The human inquires about places suitable for children, and the AI responds that theme parks, specifically Everland and Lotte World, are the best options, highlighting their various rides, performances, and child-friendly spaces. The AI then offers to create a one-day itinerary for Everland, outlining a detailed schedule that includes activities such as enjoying attractions, dining, wildlife exploration, watching performances, and shopping for souvenirs, while also advising to book tickets in advance and check the weather.\n"
          ]
        }
      ],
      "source": [
        "# 현재까지의 요약본 확인\n",
        "print(memory.buffer)"
      ]
    },
    {
      "cell_type": "markdown",
      "id": "ecb3324e",
      "metadata": {
        "cell_watermark": {
          "hash": "cmxhYWxzdG4xNTA0QG5hdmVyLmNvbQ==",
          "date": "2025-10-28",
          "uuid": "a6891393-447c-4e7e-9f46-79590cf1d99d"
        }
      },
      "source": [
        "이 방식은 LLM이 이전 대화를 스스로 요약하여 “장기 기억” 처럼 보관합니다.  \n",
        "수백 문장의 대화도 핵심 내용만 남기기 때문에 효율적입니다."
      ]
    },
    {
      "cell_type": "markdown",
      "id": "1b812292",
      "metadata": {
        "cell_watermark": {
          "hash": "cmxhYWxzdG4xNTA0QG5hdmVyLmNvbQ==",
          "date": "2025-10-28",
          "uuid": "ed5c30bf-a5f0-4e58-9236-4793ca6457a1"
        }
      },
      "source": [
        "**핵심 정리**\n",
        "| Memory 타입 | 특징 | 사용 목적 |\n",
        "|--------------|--------|-------------|\n",
        "| **BufferMemory** | 모든 대화를 그대로 저장 | 짧은 대화, 디버깅용 |\n",
        "| **WindowMemory** | 최근 N개의 대화만 유지 | 실시간 채팅, 효율성 |\n",
        "| **SummaryMemory** | 이전 대화를 요약해서 유지 | 장기 기억, 맥락 유지형 챗봇 |"
      ]
    },
    {
      "cell_type": "markdown",
      "id": "30a0588e",
      "metadata": {
        "cell_watermark": {
          "hash": "cmxhYWxzdG4xNTA0QG5hdmVyLmNvbQ==",
          "date": "2025-10-28",
          "uuid": "2ba67127-fa73-408c-af86-dbc17b712a91"
        }
      },
      "source": [
        "🔹 실습 : 아래 조건을 만족하는 “나만의 대화형 여행 상담 챗봇”을 만들어보세요.\n",
        "\n",
        "당신은 AI 여행 비서 트래블GPT 입니다.  \n",
        "고객이 여러 도시를 순서대로 여행하면서 맞춤 일정·숙소·음식을 요청할 때,  \n",
        "이전 대화 내용을 기억하며 연결된 제안을 해주는 지능형 여행 어시스턴트를 구현하세요.  \n",
        "\n",
        "1. ChatOpenAI(model=\"gpt-4o-mini\") 사용\n",
        "2. ConversationSummaryMemory로 장기 대화 기억 구현\n",
        "3. 답변에 반드시 \"이전 여행 내용을 바탕으로 추천드리면...\" 이라는 문구 포함\n",
        "  - 예시 : 이전 여행 내용을 바탕으로 추천드리면, 여수에서는 해상케이블카와 낭만포차거리를 꼭 가보세요.\n",
        "4. 대화 시나리오:\n",
        "  - 사용자가 “부산 → 여수 → 강릉” 순으로 도시를 이동\n",
        "  - 챗봇은 이전 도시에서 한 활동을 기억하고 “연결된 여행 루트”나 “테마별 추천(가족/커플/힐링)”을 제안할 것\n",
        "\n",
        "예시 시나리오\n",
        "```bash\n",
        "사용자: 이번 주말엔 부산 갈 건데 가족 여행지 좀 추천해줘.\n",
        "AI: 부산의 해운대, 아쿠아리움이 가족 단위로 인기예요!\n",
        "\n",
        "사용자: 이번엔 여수로 가볼까?\n",
        "AI: 이전 여행 내용을 바탕으로 추천드리면, 부산의 해변 감성에 이어 여수에서는 바다 전망 케이블카와 낭만포차를 즐기세요.\n",
        "\n",
        "사용자: 그럼 마지막은 강릉이 좋을까?\n",
        "AI: 이전 여행 내용을 바탕으로 추천드리면, 강릉에서는 여수보다 조용한 힐링 카페 거리와 바다 일출 코스를 권합니다.\n",
        "```"
      ]
    },
    {
      "cell_type": "code",
      "execution_count": null,
      "id": "14310e36",
      "metadata": {
        "cell_watermark": {
          "hash": "cmxhYWxzdG4xNTA0QG5hdmVyLmNvbQ==",
          "date": "2025-10-28",
          "uuid": "0069e4be-432c-4734-b670-c740f30be739"
        }
      },
      "outputs": [
        {
          "name": "stdout",
          "output_type": "stream",
          "text": [
            "\n",
            "👤 사용자: 이번 주말엔 부산 갈 건데 가족 여행지 좀 추천해줘.\n",
            "🤖 트래블GPT: 이전 여행 내용을 바탕으로 추천드리면, 부산에서 가족과 함께 즐길 수 있는 몇 가지 여행지를 소개해드릴게요.\n",
            "\n",
            "1. **해운대 해수욕장**: 넓은 백사장과 맑은 바다가 매력적인 해운대에서 가족과 함께 해수욕을 즐기거나 해변을 산책해보세요.\n",
            "\n",
            "2. **부산 아쿠아리움**: 해운대 근처에 위치한 아쿠아리움은 다양한 해양 생물을 가까이에서 관찰할 수 있어 아이들에게도 흥미로운 경험이 될 거예요.\n",
            "\n",
            "3. **감천문화마을**: 색색의 집들이 모여 있는 감천문화마을에서 가족과 함께 사진을 찍고 예술 작품들을 감상하면서 여유로운 시간을 가져보세요.\n",
            "\n",
            "4. **부산타워**: 용두산 공원에 위치한 부산타워에서 부산의 전경을 한눈에 내려다 볼 수 있습니다. 해가 지는 저녁 시간에 방문하면 더욱 아름다운 경치를 감상할 수 있습니다.\n",
            "\n",
            "5. **태종대**: 아름다운 자연경관과 함께 다채로운 해양 스포츠를 즐길 수 있는 태종대에서 가족과 함께 산책하거나 피크닉을 즐겨보세요.\n",
            "\n",
            "부산에서 즐거운 가족 여행 되시길 바랍니다!\n",
            "\n",
            "👤 사용자: 이번엔 여수로 가볼까?\n",
            "🤖 트래블GPT: 이전 여행 내용을 바탕으로 추천드리면, 여수에서 가족과 함께 즐길 수 있는 몇 가지 명소를 소개해드릴게요.\n",
            "\n",
            "1. **여수 오동도**: 아름다운 자연경관과 함께 산책로가 잘 마련되어 있어 가족과 함께 편안하게 즐길 수 있는 곳입니다. 특히 봄에는 벚꽃이 아름답습니다.\n",
            "\n",
            "2. **여수 해양공원**: 다양한 해양 체험과 놀이시설이 있어 아이들과 함께 즐기기에 좋은 장소입니다. 해안선을 따라 걷는 것도 추천드립니다.\n",
            "\n",
            "3. **여수 아쿠아리움**: 다양한 해양 생물을 관찰할 수 있는 곳으로, 아이들이 특히 좋아할 것입니다. 교육적인 요소도 있어 가족 모두가 즐길 수 있습니다.\n",
            "\n",
            "4. **향일암**: 멋진 바다 경치를 감상할 수 있는 사찰로, 가족과 함께 조용한 시간을 보내기 좋습니다.\n",
            "\n",
            "5. **돌산대교**: 야경이 아름다워 저녁시간에 드라이브하기 좋습니다. 가족과 함께 멋진 사진도 남길 수 있을 거예요.\n",
            "\n",
            "여수에서 즐거운 여행 되시길 바랍니다!\n",
            "\n",
            "👤 사용자: 그럼 마지막은 강릉이 좋을까?\n",
            "🤖 트래블GPT: 이전 여행 내용을 바탕으로 추천드리면, 강릉은 가족 여행에 아주 좋은 선택입니다! 강릉에서는 다음과 같은 가족 친화적인 명소를 추천드립니다:\n",
            "\n",
            "1. **경포대**: 아름다운 바다 경치를 감상하며 산책할 수 있는 명소입니다. 아이들과 함께 해변에서 놀거나 피크닉을 즐기기 좋습니다.\n",
            "2. **강릉 커피 거리**: 다양한 카페들이 있어 가족과 함께 커피와 디저트를 즐기며 여유로운 시간을 보낼 수 있습니다.\n",
            "3. **안목해변**: 수영과 해양 스포츠를 즐길 수 있는 해변으로, 아이들이 놀기에 안전한 곳입니다.\n",
            "4. **오죽헌**: 한국의 전통 문화를 느낄 수 있는 장소로, 아이들에게도 교육적인 경험이 될 것입니다.\n",
            "5. **강릉 아트센터**: 다양한 문화 행사와 전시가 열리는 곳으로, 가족이 함께 즐길 수 있는 프로그램이 많습니다.\n",
            "\n",
            "강릉에서 즐거운 시간 보내시길 바랍니다!\n",
            "\n",
            " 요약된 Memory Buffer:\n",
            "The human plans to visit Busan for the weekend and asks the AI for family travel recommendations. The AI suggests several family-friendly destinations in Busan, including Haeundae Beach for swimming and beach walks, the Busan Aquarium for observing marine life, Gamcheon Culture Village for photography and art appreciation, Busan Tower for panoramic views, especially at sunset, and Taejongdae for nature walks and picnics, wishing the human an enjoyable family trip. The human then considers visiting Yeosu and asks the AI for recommendations. The AI provides several family-friendly attractions in Yeosu, including Odongdo for scenic walks, Yeosu Marine Park for marine activities and playgrounds, Yeosu Aquarium for observing marine life, Hyangilam for peaceful views of the sea, and the Dolsan Bridge for beautiful night views, wishing the human a great trip in Yeosu. The human then inquires about visiting Gangneung, and the AI recommends it as a great family travel choice, suggesting several attractions: Gyeongpodae for beach walks and picnics, the Gangneung Coffee Street for relaxing time with coffee and desserts, Anmok Beach for safe swimming and water sports, Ojukheon for an educational cultural experience, and the Gangneung Arts Center for diverse family-friendly programs, wishing the human a pleasant time in Gangneung.\n"
          ]
        }
      ],
      "source": [
        "from langchain_openai import ChatOpenAI\n",
        "from langchain.memory import ConversationSummaryMemory\n",
        "from langchain.prompts import ChatPromptTemplate, MessagesPlaceholder\n",
        "\n",
        "# 모델 선언\n",
        "llm = ChatOpenAI(model=\"gpt-4o-mini\", temperature=0.7)\n",
        "\n",
        "# 메모리 생성 — 이전 대화를 요약하며 장기 기억\n",
        "memory = ConversationSummaryMemory(llm=llm, return_messages=True)\n",
        "\n",
        "# 프롬프트 템플릿 정의\n",
        "prompt = ChatPromptTemplate.from_messages([\n",
        "    (\"system\",\n",
        "     \"너는 여행 비서 트래블GPT야. \"\n",
        "     \"사용자의 여행 루트를 기억하고, 이전 여행 내용을 바탕으로 다음 도시를 추천해줘. \"\n",
        "     \"답변에는 반드시 '이전 여행 내용을 바탕으로 추천드리면,' 이라는 문구를 포함해야 해.\"),\n",
        "    MessagesPlaceholder(variable_name=\"history\"),  # 과거 대화 자동 삽입\n",
        "    (\"human\", \"{input}\")                            # 현재 사용자 입력\n",
        "])\n",
        "\n",
        "# LCEL 체인 구성\n",
        "chain = prompt | llm\n",
        "\n",
        "# 대화 시나리오\n",
        "inputs = [\n",
        "    \"이번 주말엔 부산 갈 건데 가족 여행지 좀 추천해줘.\",\n",
        "    \"이번엔 여수로 가볼까?\",\n",
        "    \"그럼 마지막은 강릉이 좋을까?\"\n",
        "]\n",
        "\n",
        "# 연속 대화 시뮬레이션\n",
        "for user_input in inputs:\n",
        "    history = memory.load_memory_variables({})[\"history\"]\n",
        "    result = chain.invoke({\"history\": history, \"input\": user_input})\n",
        "    print(f\"\\n 사용자: {user_input}\\n 트래블GPT: {result.content}\")\n",
        "    memory.save_context({\"input\": user_input}, {\"output\": result.content})\n",
        "\n",
        "# 대화 요약 확인 (선택)\n",
        "print(\"\\n 요약된 Memory Buffer:\")\n",
        "print(memory.buffer)"
      ]
    }
  ],
  "metadata": {
    "encoded_email": "cmxhYWxzdG4xNTA0QG5hdmVyLmNvbQ==",
    "filename": "MeydvOywqC5pcHluYg==",
    "inserted_date": "2025-10-28",
    "kernelspec": {
      "display_name": "base",
      "language": "python",
      "name": "python3"
    },
    "language_info": {
      "codemirror_mode": {
        "name": "ipython",
        "version": 3
      },
      "file_extension": ".py",
      "mimetype": "text/x-python",
      "name": "python",
      "nbconvert_exporter": "python",
      "pygments_lexer": "ipython3",
      "version": "3.11.7"
    }
  },
  "nbformat": 4,
  "nbformat_minor": 5
}